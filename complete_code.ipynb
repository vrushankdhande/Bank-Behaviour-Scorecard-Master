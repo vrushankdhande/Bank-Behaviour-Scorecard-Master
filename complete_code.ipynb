{
 "cells": [
  {
   "cell_type": "markdown",
   "metadata": {
    "colab_type": "text",
    "id": "zk_5NTTwqnof"
   },
   "source": [
    "## Importing Libraries"
   ]
  },
  {
   "cell_type": "code",
   "execution_count": 69,
   "metadata": {
    "colab": {},
    "colab_type": "code",
    "id": "QzSOF98p8739"
   },
   "outputs": [],
   "source": [
    "import pandas as pd\n",
    "import numpy as np\n",
    "import matplotlib.pyplot as plt\n",
    "import seaborn as sns\n",
    "from sklearn.manifold import TSNE"
   ]
  },
  {
   "cell_type": "markdown",
   "metadata": {
    "colab_type": "text",
    "id": "tWkuX82W9BR7"
   },
   "source": [
    "## Preprocessing"
   ]
  },
  {
   "cell_type": "code",
   "execution_count": 75,
   "metadata": {
    "colab": {
     "base_uri": "https://localhost:8080/",
     "height": 320
    },
    "colab_type": "code",
    "id": "8XsOH6BMQ9bN",
    "outputId": "f09cbd80-2db1-46b3-cd72-fe822f0b23ad"
   },
   "outputs": [
    {
     "name": "stderr",
     "output_type": "stream",
     "text": [
      "C:\\Users\\vrush\\anaconda3\\lib\\site-packages\\IPython\\core\\interactiveshell.py:3165: DtypeWarning: Columns (746,835) have mixed types.Specify dtype option on import or set low_memory=False.\n",
      "  has_raised = await self.run_ast_nodes(code_ast.body, cell_name,\n",
      "C:\\Users\\vrush\\anaconda3\\lib\\site-packages\\IPython\\core\\interactiveshell.py:3165: DtypeWarning: Columns (700,731,740,752,761,789,811,820,829,841,850) have mixed types.Specify dtype option on import or set low_memory=False.\n",
      "  has_raised = await self.run_ast_nodes(code_ast.body, cell_name,\n"
     ]
    },
    {
     "data": {
      "text/html": [
       "<div>\n",
       "<style scoped>\n",
       "    .dataframe tbody tr th:only-of-type {\n",
       "        vertical-align: middle;\n",
       "    }\n",
       "\n",
       "    .dataframe tbody tr th {\n",
       "        vertical-align: top;\n",
       "    }\n",
       "\n",
       "    .dataframe thead th {\n",
       "        text-align: right;\n",
       "    }\n",
       "</style>\n",
       "<table border=\"1\" class=\"dataframe\">\n",
       "  <thead>\n",
       "    <tr style=\"text-align: right;\">\n",
       "      <th></th>\n",
       "      <th>Col1</th>\n",
       "      <th>Col2</th>\n",
       "      <th>Col3</th>\n",
       "      <th>Col4</th>\n",
       "      <th>Col5</th>\n",
       "      <th>Col6</th>\n",
       "      <th>Col7</th>\n",
       "      <th>Col8</th>\n",
       "      <th>Col9</th>\n",
       "      <th>Col10</th>\n",
       "      <th>...</th>\n",
       "      <th>Col2388</th>\n",
       "      <th>Col2389</th>\n",
       "      <th>Col2390</th>\n",
       "      <th>Col2391</th>\n",
       "      <th>Col2392</th>\n",
       "      <th>Col2393</th>\n",
       "      <th>Col2394</th>\n",
       "      <th>Col2395</th>\n",
       "      <th>Col2396</th>\n",
       "      <th>Col2397</th>\n",
       "    </tr>\n",
       "  </thead>\n",
       "  <tbody>\n",
       "    <tr>\n",
       "      <th>0</th>\n",
       "      <td>RIGHGSN</td>\n",
       "      <td>1</td>\n",
       "      <td>1.086711e+04</td>\n",
       "      <td>8.648345e+03</td>\n",
       "      <td>1.576618e+04</td>\n",
       "      <td>2.890466e+04</td>\n",
       "      <td>5.273655e+03</td>\n",
       "      <td>2.346153e+04</td>\n",
       "      <td>1.285597e+04</td>\n",
       "      <td>2.871509e+04</td>\n",
       "      <td>...</td>\n",
       "      <td>0</td>\n",
       "      <td>1</td>\n",
       "      <td>0</td>\n",
       "      <td>1</td>\n",
       "      <td>214.0</td>\n",
       "      <td>214.0</td>\n",
       "      <td>68.0</td>\n",
       "      <td>22.0</td>\n",
       "      <td>22.0</td>\n",
       "      <td>7.0</td>\n",
       "    </tr>\n",
       "    <tr>\n",
       "      <th>1</th>\n",
       "      <td>RIMHI5ZGP</td>\n",
       "      <td>0</td>\n",
       "      <td>2.584312e+05</td>\n",
       "      <td>2.179633e+05</td>\n",
       "      <td>1.866287e+05</td>\n",
       "      <td>1.866287e+05</td>\n",
       "      <td>2.154519e+05</td>\n",
       "      <td>1.923615e+05</td>\n",
       "      <td>1.726538e+05</td>\n",
       "      <td>1.666974e+05</td>\n",
       "      <td>...</td>\n",
       "      <td>0</td>\n",
       "      <td>0</td>\n",
       "      <td>0</td>\n",
       "      <td>0</td>\n",
       "      <td>41.0</td>\n",
       "      <td>41.0</td>\n",
       "      <td>38.0</td>\n",
       "      <td>12.0</td>\n",
       "      <td>12.0</td>\n",
       "      <td>11.0</td>\n",
       "    </tr>\n",
       "    <tr>\n",
       "      <th>2</th>\n",
       "      <td>RIHOG1SZU</td>\n",
       "      <td>0</td>\n",
       "      <td>1.459355e+07</td>\n",
       "      <td>1.260060e+07</td>\n",
       "      <td>1.100315e+07</td>\n",
       "      <td>1.010315e+07</td>\n",
       "      <td>1.879882e+07</td>\n",
       "      <td>1.514035e+07</td>\n",
       "      <td>5.320778e+06</td>\n",
       "      <td>6.906324e+06</td>\n",
       "      <td>...</td>\n",
       "      <td>0</td>\n",
       "      <td>1</td>\n",
       "      <td>1</td>\n",
       "      <td>0</td>\n",
       "      <td>378.0</td>\n",
       "      <td>378.0</td>\n",
       "      <td>310.0</td>\n",
       "      <td>21.0</td>\n",
       "      <td>21.0</td>\n",
       "      <td>16.0</td>\n",
       "    </tr>\n",
       "    <tr>\n",
       "      <th>3</th>\n",
       "      <td>RIHOLMQWU</td>\n",
       "      <td>0</td>\n",
       "      <td>6.727043e+05</td>\n",
       "      <td>8.181116e+05</td>\n",
       "      <td>6.794893e+05</td>\n",
       "      <td>6.794893e+05</td>\n",
       "      <td>8.257254e+05</td>\n",
       "      <td>7.605803e+05</td>\n",
       "      <td>3.577134e+05</td>\n",
       "      <td>4.236612e+05</td>\n",
       "      <td>...</td>\n",
       "      <td>0</td>\n",
       "      <td>0</td>\n",
       "      <td>0</td>\n",
       "      <td>0</td>\n",
       "      <td>702.0</td>\n",
       "      <td>702.0</td>\n",
       "      <td>644.0</td>\n",
       "      <td>951.0</td>\n",
       "      <td>951.0</td>\n",
       "      <td>743.0</td>\n",
       "    </tr>\n",
       "    <tr>\n",
       "      <th>4</th>\n",
       "      <td>RIHO584ET</td>\n",
       "      <td>0</td>\n",
       "      <td>-1.218742e+06</td>\n",
       "      <td>-3.005361e+06</td>\n",
       "      <td>-1.666241e+05</td>\n",
       "      <td>-2.403574e+06</td>\n",
       "      <td>2.583183e+06</td>\n",
       "      <td>2.086546e+06</td>\n",
       "      <td>5.938358e+06</td>\n",
       "      <td>5.446532e+06</td>\n",
       "      <td>...</td>\n",
       "      <td>0</td>\n",
       "      <td>0</td>\n",
       "      <td>0</td>\n",
       "      <td>0</td>\n",
       "      <td>1305.0</td>\n",
       "      <td>1305.0</td>\n",
       "      <td>1211.0</td>\n",
       "      <td>2205.0</td>\n",
       "      <td>2205.0</td>\n",
       "      <td>1831.0</td>\n",
       "    </tr>\n",
       "  </tbody>\n",
       "</table>\n",
       "<p>5 rows × 2395 columns</p>\n",
       "</div>"
      ],
      "text/plain": [
       "        Col1  Col2          Col3          Col4          Col5          Col6  \\\n",
       "0    RIGHGSN     1  1.086711e+04  8.648345e+03  1.576618e+04  2.890466e+04   \n",
       "1  RIMHI5ZGP     0  2.584312e+05  2.179633e+05  1.866287e+05  1.866287e+05   \n",
       "2  RIHOG1SZU     0  1.459355e+07  1.260060e+07  1.100315e+07  1.010315e+07   \n",
       "3  RIHOLMQWU     0  6.727043e+05  8.181116e+05  6.794893e+05  6.794893e+05   \n",
       "4  RIHO584ET     0 -1.218742e+06 -3.005361e+06 -1.666241e+05 -2.403574e+06   \n",
       "\n",
       "           Col7          Col8          Col9         Col10  ...  Col2388  \\\n",
       "0  5.273655e+03  2.346153e+04  1.285597e+04  2.871509e+04  ...        0   \n",
       "1  2.154519e+05  1.923615e+05  1.726538e+05  1.666974e+05  ...        0   \n",
       "2  1.879882e+07  1.514035e+07  5.320778e+06  6.906324e+06  ...        0   \n",
       "3  8.257254e+05  7.605803e+05  3.577134e+05  4.236612e+05  ...        0   \n",
       "4  2.583183e+06  2.086546e+06  5.938358e+06  5.446532e+06  ...        0   \n",
       "\n",
       "   Col2389  Col2390  Col2391  Col2392  Col2393  Col2394  Col2395  Col2396  \\\n",
       "0        1        0        1    214.0    214.0     68.0     22.0     22.0   \n",
       "1        0        0        0     41.0     41.0     38.0     12.0     12.0   \n",
       "2        1        1        0    378.0    378.0    310.0     21.0     21.0   \n",
       "3        0        0        0    702.0    702.0    644.0    951.0    951.0   \n",
       "4        0        0        0   1305.0   1305.0   1211.0   2205.0   2205.0   \n",
       "\n",
       "   Col2397  \n",
       "0      7.0  \n",
       "1     11.0  \n",
       "2     16.0  \n",
       "3    743.0  \n",
       "4   1831.0  \n",
       "\n",
       "[5 rows x 2395 columns]"
      ]
     },
     "execution_count": 75,
     "metadata": {},
     "output_type": "execute_result"
    }
   ],
   "source": [
    "train_path = \"Train.csv\"\n",
    "test_path = \"Test.csv\"\n",
    "\n",
    "train_df = pd.read_csv(train_path)\n",
    "test_df = pd.read_csv(test_path)\n",
    "train_df.head()"
   ]
  },
  {
   "cell_type": "code",
   "execution_count": 76,
   "metadata": {
    "colab": {
     "base_uri": "https://localhost:8080/",
     "height": 249
    },
    "colab_type": "code",
    "id": "HvBIkUHCmkrL",
    "outputId": "a00eaf3b-e006-4c3c-897d-f5d7e27ef2b7"
   },
   "outputs": [
    {
     "data": {
      "text/html": [
       "<div>\n",
       "<style scoped>\n",
       "    .dataframe tbody tr th:only-of-type {\n",
       "        vertical-align: middle;\n",
       "    }\n",
       "\n",
       "    .dataframe tbody tr th {\n",
       "        vertical-align: top;\n",
       "    }\n",
       "\n",
       "    .dataframe thead th {\n",
       "        text-align: right;\n",
       "    }\n",
       "</style>\n",
       "<table border=\"1\" class=\"dataframe\">\n",
       "  <thead>\n",
       "    <tr style=\"text-align: right;\">\n",
       "      <th></th>\n",
       "      <th>Col1</th>\n",
       "      <th>Col3</th>\n",
       "      <th>Col4</th>\n",
       "      <th>Col5</th>\n",
       "      <th>Col6</th>\n",
       "      <th>Col7</th>\n",
       "      <th>Col8</th>\n",
       "      <th>Col9</th>\n",
       "      <th>Col10</th>\n",
       "      <th>Col11</th>\n",
       "      <th>...</th>\n",
       "      <th>Col2388</th>\n",
       "      <th>Col2389</th>\n",
       "      <th>Col2390</th>\n",
       "      <th>Col2391</th>\n",
       "      <th>Col2392</th>\n",
       "      <th>Col2393</th>\n",
       "      <th>Col2394</th>\n",
       "      <th>Col2395</th>\n",
       "      <th>Col2396</th>\n",
       "      <th>Col2397</th>\n",
       "    </tr>\n",
       "  </thead>\n",
       "  <tbody>\n",
       "    <tr>\n",
       "      <th>0</th>\n",
       "      <td>RIGD58ZWD</td>\n",
       "      <td>8.167140e+04</td>\n",
       "      <td>8.614542e+04</td>\n",
       "      <td>7.532296e+04</td>\n",
       "      <td>7.532296e+04</td>\n",
       "      <td>1.125174e+05</td>\n",
       "      <td>1.002778e+05</td>\n",
       "      <td>2.038915e+04</td>\n",
       "      <td>3.053853e+04</td>\n",
       "      <td>8.395911e+04</td>\n",
       "      <td>...</td>\n",
       "      <td>0</td>\n",
       "      <td>0</td>\n",
       "      <td>0</td>\n",
       "      <td>0</td>\n",
       "      <td>44.0</td>\n",
       "      <td>44.0</td>\n",
       "      <td>23.0</td>\n",
       "      <td>41.0</td>\n",
       "      <td>41.0</td>\n",
       "      <td>36.0</td>\n",
       "    </tr>\n",
       "    <tr>\n",
       "      <th>1</th>\n",
       "      <td>RIH660YDS</td>\n",
       "      <td>-1.362824e+07</td>\n",
       "      <td>-4.493043e+06</td>\n",
       "      <td>-3.777257e+06</td>\n",
       "      <td>-4.493043e+06</td>\n",
       "      <td>-4.749764e+06</td>\n",
       "      <td>-4.749764e+06</td>\n",
       "      <td>1.147556e+07</td>\n",
       "      <td>1.147556e+07</td>\n",
       "      <td>1.272055e+07</td>\n",
       "      <td>...</td>\n",
       "      <td>1</td>\n",
       "      <td>1</td>\n",
       "      <td>2</td>\n",
       "      <td>2</td>\n",
       "      <td>1234.0</td>\n",
       "      <td>1234.0</td>\n",
       "      <td>680.0</td>\n",
       "      <td>154.0</td>\n",
       "      <td>153.0</td>\n",
       "      <td>86.0</td>\n",
       "    </tr>\n",
       "    <tr>\n",
       "      <th>2</th>\n",
       "      <td>RIH660Q96</td>\n",
       "      <td>1.302700e+06</td>\n",
       "      <td>1.341449e+06</td>\n",
       "      <td>1.240085e+06</td>\n",
       "      <td>1.341449e+06</td>\n",
       "      <td>1.477503e+06</td>\n",
       "      <td>1.477503e+06</td>\n",
       "      <td>3.904086e+05</td>\n",
       "      <td>3.904086e+05</td>\n",
       "      <td>4.979106e+05</td>\n",
       "      <td>...</td>\n",
       "      <td>0</td>\n",
       "      <td>0</td>\n",
       "      <td>0</td>\n",
       "      <td>0</td>\n",
       "      <td>33.0</td>\n",
       "      <td>24.0</td>\n",
       "      <td>19.0</td>\n",
       "      <td>3.0</td>\n",
       "      <td>1.0</td>\n",
       "      <td>1.0</td>\n",
       "    </tr>\n",
       "    <tr>\n",
       "      <th>3</th>\n",
       "      <td>RIYDO15W1</td>\n",
       "      <td>1.932258e+05</td>\n",
       "      <td>1.454433e+05</td>\n",
       "      <td>1.929148e+05</td>\n",
       "      <td>1.454433e+05</td>\n",
       "      <td>1.318250e+04</td>\n",
       "      <td>1.318250e+04</td>\n",
       "      <td>8.650108e+04</td>\n",
       "      <td>8.650108e+04</td>\n",
       "      <td>5.896693e+03</td>\n",
       "      <td>...</td>\n",
       "      <td>0</td>\n",
       "      <td>0</td>\n",
       "      <td>0</td>\n",
       "      <td>0</td>\n",
       "      <td>8.0</td>\n",
       "      <td>8.0</td>\n",
       "      <td>3.0</td>\n",
       "      <td>7.0</td>\n",
       "      <td>7.0</td>\n",
       "      <td>3.0</td>\n",
       "    </tr>\n",
       "    <tr>\n",
       "      <th>4</th>\n",
       "      <td>RIYBGC1ZD</td>\n",
       "      <td>3.913385e+05</td>\n",
       "      <td>1.987337e+05</td>\n",
       "      <td>1.703432e+05</td>\n",
       "      <td>1.987337e+05</td>\n",
       "      <td>3.046536e+05</td>\n",
       "      <td>3.046536e+05</td>\n",
       "      <td>2.528307e+05</td>\n",
       "      <td>2.528307e+05</td>\n",
       "      <td>3.034449e+05</td>\n",
       "      <td>...</td>\n",
       "      <td>0</td>\n",
       "      <td>0</td>\n",
       "      <td>0</td>\n",
       "      <td>0</td>\n",
       "      <td>7.0</td>\n",
       "      <td>7.0</td>\n",
       "      <td>7.0</td>\n",
       "      <td>6.0</td>\n",
       "      <td>6.0</td>\n",
       "      <td>5.0</td>\n",
       "    </tr>\n",
       "    <tr>\n",
       "      <th>...</th>\n",
       "      <td>...</td>\n",
       "      <td>...</td>\n",
       "      <td>...</td>\n",
       "      <td>...</td>\n",
       "      <td>...</td>\n",
       "      <td>...</td>\n",
       "      <td>...</td>\n",
       "      <td>...</td>\n",
       "      <td>...</td>\n",
       "      <td>...</td>\n",
       "      <td>...</td>\n",
       "      <td>...</td>\n",
       "      <td>...</td>\n",
       "      <td>...</td>\n",
       "      <td>...</td>\n",
       "      <td>...</td>\n",
       "      <td>...</td>\n",
       "      <td>...</td>\n",
       "      <td>...</td>\n",
       "      <td>...</td>\n",
       "      <td>...</td>\n",
       "    </tr>\n",
       "    <tr>\n",
       "      <th>20437</th>\n",
       "      <td>OL0I6O5R</td>\n",
       "      <td>3.862726e+04</td>\n",
       "      <td>3.501103e+04</td>\n",
       "      <td>2.825183e+04</td>\n",
       "      <td>2.813549e+04</td>\n",
       "      <td>3.670330e+04</td>\n",
       "      <td>3.316264e+04</td>\n",
       "      <td>6.330923e+03</td>\n",
       "      <td>1.489258e+04</td>\n",
       "      <td>4.805880e+03</td>\n",
       "      <td>...</td>\n",
       "      <td>0</td>\n",
       "      <td>0</td>\n",
       "      <td>0</td>\n",
       "      <td>0</td>\n",
       "      <td>6.0</td>\n",
       "      <td>6.0</td>\n",
       "      <td>4.0</td>\n",
       "      <td>5.0</td>\n",
       "      <td>5.0</td>\n",
       "      <td>1.0</td>\n",
       "    </tr>\n",
       "    <tr>\n",
       "      <th>20438</th>\n",
       "      <td>OL0I65ZW</td>\n",
       "      <td>2.578050e+04</td>\n",
       "      <td>1.933538e+04</td>\n",
       "      <td>1.546830e+04</td>\n",
       "      <td>1.546830e+04</td>\n",
       "      <td>1.948715e+04</td>\n",
       "      <td>1.558972e+04</td>\n",
       "      <td>1.313231e+04</td>\n",
       "      <td>1.407065e+04</td>\n",
       "      <td>1.288176e+04</td>\n",
       "      <td>...</td>\n",
       "      <td>0</td>\n",
       "      <td>1</td>\n",
       "      <td>0</td>\n",
       "      <td>1</td>\n",
       "      <td>9.0</td>\n",
       "      <td>9.0</td>\n",
       "      <td>9.0</td>\n",
       "      <td>7.0</td>\n",
       "      <td>7.0</td>\n",
       "      <td>7.0</td>\n",
       "    </tr>\n",
       "    <tr>\n",
       "      <th>20439</th>\n",
       "      <td>OL0I6CXW</td>\n",
       "      <td>1.755580e+05</td>\n",
       "      <td>1.406457e+05</td>\n",
       "      <td>1.125832e+05</td>\n",
       "      <td>1.125832e+05</td>\n",
       "      <td>1.253004e+05</td>\n",
       "      <td>1.022403e+05</td>\n",
       "      <td>6.141444e+04</td>\n",
       "      <td>7.859983e+04</td>\n",
       "      <td>6.033025e+04</td>\n",
       "      <td>...</td>\n",
       "      <td>1</td>\n",
       "      <td>2</td>\n",
       "      <td>1</td>\n",
       "      <td>2</td>\n",
       "      <td>27.0</td>\n",
       "      <td>27.0</td>\n",
       "      <td>18.0</td>\n",
       "      <td>10.0</td>\n",
       "      <td>10.0</td>\n",
       "      <td>5.0</td>\n",
       "    </tr>\n",
       "    <tr>\n",
       "      <th>20440</th>\n",
       "      <td>O2VIUO</td>\n",
       "      <td>6.806643e+04</td>\n",
       "      <td>6.338058e+04</td>\n",
       "      <td>6.413642e+04</td>\n",
       "      <td>6.413642e+04</td>\n",
       "      <td>7.082305e+04</td>\n",
       "      <td>7.078595e+04</td>\n",
       "      <td>2.017906e+04</td>\n",
       "      <td>1.849832e+04</td>\n",
       "      <td>4.015468e+04</td>\n",
       "      <td>...</td>\n",
       "      <td>0</td>\n",
       "      <td>0</td>\n",
       "      <td>0</td>\n",
       "      <td>0</td>\n",
       "      <td>2.0</td>\n",
       "      <td>2.0</td>\n",
       "      <td>0.0</td>\n",
       "      <td>9.0</td>\n",
       "      <td>9.0</td>\n",
       "      <td>3.0</td>\n",
       "    </tr>\n",
       "    <tr>\n",
       "      <th>20441</th>\n",
       "      <td>M7VKV5QD</td>\n",
       "      <td>-6.766640e+07</td>\n",
       "      <td>-6.416449e+07</td>\n",
       "      <td>-2.951962e+07</td>\n",
       "      <td>-5.160258e+07</td>\n",
       "      <td>-6.282747e+07</td>\n",
       "      <td>-5.448213e+07</td>\n",
       "      <td>6.802486e+06</td>\n",
       "      <td>2.652642e+07</td>\n",
       "      <td>4.465386e+06</td>\n",
       "      <td>...</td>\n",
       "      <td>0</td>\n",
       "      <td>0</td>\n",
       "      <td>0</td>\n",
       "      <td>0</td>\n",
       "      <td>1003.0</td>\n",
       "      <td>1003.0</td>\n",
       "      <td>849.0</td>\n",
       "      <td>85.0</td>\n",
       "      <td>85.0</td>\n",
       "      <td>72.0</td>\n",
       "    </tr>\n",
       "  </tbody>\n",
       "</table>\n",
       "<p>20442 rows × 2394 columns</p>\n",
       "</div>"
      ],
      "text/plain": [
       "            Col1          Col3          Col4          Col5          Col6  \\\n",
       "0      RIGD58ZWD  8.167140e+04  8.614542e+04  7.532296e+04  7.532296e+04   \n",
       "1      RIH660YDS -1.362824e+07 -4.493043e+06 -3.777257e+06 -4.493043e+06   \n",
       "2      RIH660Q96  1.302700e+06  1.341449e+06  1.240085e+06  1.341449e+06   \n",
       "3      RIYDO15W1  1.932258e+05  1.454433e+05  1.929148e+05  1.454433e+05   \n",
       "4      RIYBGC1ZD  3.913385e+05  1.987337e+05  1.703432e+05  1.987337e+05   \n",
       "...          ...           ...           ...           ...           ...   \n",
       "20437   OL0I6O5R  3.862726e+04  3.501103e+04  2.825183e+04  2.813549e+04   \n",
       "20438   OL0I65ZW  2.578050e+04  1.933538e+04  1.546830e+04  1.546830e+04   \n",
       "20439   OL0I6CXW  1.755580e+05  1.406457e+05  1.125832e+05  1.125832e+05   \n",
       "20440     O2VIUO  6.806643e+04  6.338058e+04  6.413642e+04  6.413642e+04   \n",
       "20441   M7VKV5QD -6.766640e+07 -6.416449e+07 -2.951962e+07 -5.160258e+07   \n",
       "\n",
       "               Col7          Col8          Col9         Col10         Col11  \\\n",
       "0      1.125174e+05  1.002778e+05  2.038915e+04  3.053853e+04  8.395911e+04   \n",
       "1     -4.749764e+06 -4.749764e+06  1.147556e+07  1.147556e+07  1.272055e+07   \n",
       "2      1.477503e+06  1.477503e+06  3.904086e+05  3.904086e+05  4.979106e+05   \n",
       "3      1.318250e+04  1.318250e+04  8.650108e+04  8.650108e+04  5.896693e+03   \n",
       "4      3.046536e+05  3.046536e+05  2.528307e+05  2.528307e+05  3.034449e+05   \n",
       "...             ...           ...           ...           ...           ...   \n",
       "20437  3.670330e+04  3.316264e+04  6.330923e+03  1.489258e+04  4.805880e+03   \n",
       "20438  1.948715e+04  1.558972e+04  1.313231e+04  1.407065e+04  1.288176e+04   \n",
       "20439  1.253004e+05  1.022403e+05  6.141444e+04  7.859983e+04  6.033025e+04   \n",
       "20440  7.082305e+04  7.078595e+04  2.017906e+04  1.849832e+04  4.015468e+04   \n",
       "20441 -6.282747e+07 -5.448213e+07  6.802486e+06  2.652642e+07  4.465386e+06   \n",
       "\n",
       "       ...  Col2388  Col2389  Col2390  Col2391  Col2392  Col2393  Col2394  \\\n",
       "0      ...        0        0        0        0     44.0     44.0     23.0   \n",
       "1      ...        1        1        2        2   1234.0   1234.0    680.0   \n",
       "2      ...        0        0        0        0     33.0     24.0     19.0   \n",
       "3      ...        0        0        0        0      8.0      8.0      3.0   \n",
       "4      ...        0        0        0        0      7.0      7.0      7.0   \n",
       "...    ...      ...      ...      ...      ...      ...      ...      ...   \n",
       "20437  ...        0        0        0        0      6.0      6.0      4.0   \n",
       "20438  ...        0        1        0        1      9.0      9.0      9.0   \n",
       "20439  ...        1        2        1        2     27.0     27.0     18.0   \n",
       "20440  ...        0        0        0        0      2.0      2.0      0.0   \n",
       "20441  ...        0        0        0        0   1003.0   1003.0    849.0   \n",
       "\n",
       "       Col2395  Col2396  Col2397  \n",
       "0         41.0     41.0     36.0  \n",
       "1        154.0    153.0     86.0  \n",
       "2          3.0      1.0      1.0  \n",
       "3          7.0      7.0      3.0  \n",
       "4          6.0      6.0      5.0  \n",
       "...        ...      ...      ...  \n",
       "20437      5.0      5.0      1.0  \n",
       "20438      7.0      7.0      7.0  \n",
       "20439     10.0     10.0      5.0  \n",
       "20440      9.0      9.0      3.0  \n",
       "20441     85.0     85.0     72.0  \n",
       "\n",
       "[20442 rows x 2394 columns]"
      ]
     },
     "execution_count": 76,
     "metadata": {},
     "output_type": "execute_result"
    }
   ],
   "source": [
    "test_df"
   ]
  },
  {
   "cell_type": "markdown",
   "metadata": {
    "colab_type": "text",
    "id": "w12Ge1b0_gZT"
   },
   "source": [
    "1st column is ID and Second columns is Target variable"
   ]
  },
  {
   "cell_type": "code",
   "execution_count": 77,
   "metadata": {
    "colab": {},
    "colab_type": "code",
    "id": "5ZRmMFKavBMY"
   },
   "outputs": [],
   "source": [
    "# Adding one because we will split at this point\n",
    "train_last_index = 17521"
   ]
  },
  {
   "cell_type": "code",
   "execution_count": 78,
   "metadata": {
    "colab": {
     "base_uri": "https://localhost:8080/",
     "height": 35
    },
    "colab_type": "code",
    "id": "g61XePpQwG27",
    "outputId": "8beb1d18-a517-4659-8283-68568d11a49c"
   },
   "outputs": [
    {
     "data": {
      "text/plain": [
       "((17521, 2395), (20442, 2394))"
      ]
     },
     "execution_count": 78,
     "metadata": {},
     "output_type": "execute_result"
    }
   ],
   "source": [
    "train_df.shape, test_df.shape"
   ]
  },
  {
   "cell_type": "markdown",
   "metadata": {
    "colab_type": "text",
    "id": "lrSOpCqU2-i9"
   },
   "source": [
    "### Null value check"
   ]
  },
  {
   "cell_type": "code",
   "execution_count": 79,
   "metadata": {
    "colab": {
     "base_uri": "https://localhost:8080/",
     "height": 35
    },
    "colab_type": "code",
    "id": "wN_c1jKo_SM5",
    "outputId": "92002133-d046-4b52-8718-aa1b03863b6b"
   },
   "outputs": [
    {
     "data": {
      "text/plain": [
       "(37963, 2393)"
      ]
     },
     "execution_count": 79,
     "metadata": {},
     "output_type": "execute_result"
    }
   ],
   "source": [
    "X = pd.concat((train_df.iloc[:,2:],test_df.iloc[:,1:]),axis=0)\n",
    "X.shape"
   ]
  },
  {
   "cell_type": "code",
   "execution_count": 80,
   "metadata": {
    "colab": {},
    "colab_type": "code",
    "id": "voMUMJBVAmXy"
   },
   "outputs": [],
   "source": [
    "# Columns Null check\n",
    "def null_cols(d,columns):\n",
    "  na = d[columns].isna().sum().sort_values(ascending=False)\n",
    "  return na[na > 0].index.to_list()"
   ]
  },
  {
   "cell_type": "markdown",
   "metadata": {
    "colab_type": "text",
    "id": "V75pkzWa3oBK"
   },
   "source": [
    "#### Numerical columns"
   ]
  },
  {
   "cell_type": "code",
   "execution_count": 81,
   "metadata": {
    "colab": {
     "base_uri": "https://localhost:8080/",
     "height": 69
    },
    "colab_type": "code",
    "id": "1XPY_EFKB2n3",
    "outputId": "bbdc90be-08f5-4c9b-d4ac-31038a5d7af2"
   },
   "outputs": [
    {
     "name": "stdout",
     "output_type": "stream",
     "text": [
      "Total 2380\n",
      "1.Null columns 746\n",
      "2.Null columns 0\n"
     ]
    }
   ],
   "source": [
    "num_cols = X.select_dtypes(include=\"number\").columns\n",
    "print('Total',len(num_cols))\n",
    "\n",
    "na_cols = null_cols(X,num_cols)\n",
    "print('1.Null columns',len(na_cols))\n",
    "\n",
    "if len(na_cols) > 0:\n",
    "  X[na_cols]= X[na_cols].fillna(method='ffill')\n",
    "  X[na_cols]= X[na_cols].fillna(method='bfill')\n",
    "  na_cols = null_cols(X,num_cols)\n",
    "  print('2.Null columns',len(na_cols))"
   ]
  },
  {
   "cell_type": "markdown",
   "metadata": {
    "colab_type": "text",
    "id": "NBn3m9p1JJA2"
   },
   "source": [
    "#### Categorical columns"
   ]
  },
  {
   "cell_type": "code",
   "execution_count": 82,
   "metadata": {
    "colab": {
     "base_uri": "https://localhost:8080/",
     "height": 69
    },
    "colab_type": "code",
    "id": "92jp6zahAmkc",
    "outputId": "d79d63c6-1a64-4274-aa23-e782e6010bc7"
   },
   "outputs": [
    {
     "name": "stdout",
     "output_type": "stream",
     "text": [
      "Total 13\n",
      "1.Null columns 13\n",
      "2.Null columns 0\n"
     ]
    }
   ],
   "source": [
    "cat_cols = X.select_dtypes(exclude=\"number\").columns.to_list()\n",
    "\n",
    "print('Total',len(cat_cols))\n",
    "na_cols = null_cols(X,cat_cols)\n",
    "print('1.Null columns',len(na_cols))\n",
    "\n",
    "if len(na_cols) > 0:\n",
    "  X[na_cols]= X[na_cols].fillna(method='ffill')\n",
    "  X[na_cols]= X[na_cols].fillna(method='bfill')\n",
    "  na_cols = null_cols(X,cat_cols)\n",
    "  print('2.Null columns',len(na_cols))"
   ]
  },
  {
   "cell_type": "code",
   "execution_count": 11,
   "metadata": {
    "colab": {
     "base_uri": "https://localhost:8080/",
     "height": 1000
    },
    "colab_type": "code",
    "id": "dnzKBH9AJGqz",
    "outputId": "d4800b5c-9359-4356-83a3-b4662a0d793a"
   },
   "outputs": [
    {
     "name": "stdout",
     "output_type": "stream",
     "text": [
      "Before 0              37326\n",
      "0                231\n",
      "0.058166303      165\n",
      "0.057142859      103\n",
      "0.255550626       97\n",
      "0.079859571       16\n",
      "2                 11\n",
      "0.442619578        8\n",
      "0.069985428        6\n",
      "Name: Col702, dtype: int64\n",
      "After 0    37952\n",
      "2       11\n",
      "Name: Col702, dtype: int64 \n",
      "\n",
      "Before 0                      9420\n",
      "2                      3604\n",
      "0.349927106            1518\n",
      "0.447213596            1423\n",
      "0                      1392\n",
      "                       ... \n",
      "0.446132095               1\n",
      "-0.063921486              1\n",
      "0.039904182               1\n",
      "-0.0003611359999999       1\n",
      "0.392116029               1\n",
      "Name: Col733, Length: 391, dtype: int64\n",
      "After 0                      9420\n",
      "2                      3604\n",
      "0.349927106            1518\n",
      "0.447213596            1423\n",
      "0                      1392\n",
      "                       ... \n",
      "0.446132095               1\n",
      "-0.063921486              1\n",
      "0.039904182               1\n",
      "-0.0003611359999999       1\n",
      "0.392116029               1\n",
      "Name: Col733, Length: 391, dtype: int64 \n",
      "\n",
      "Before 2               4475\n",
      "-0.349927106    3628\n",
      "-0.447213595    2239\n",
      "-0.223606798    1748\n",
      "0               1609\n",
      "                ... \n",
      "-0.102448167       1\n",
      "0.054187098        1\n",
      "-0.565685425       1\n",
      "0.103436833        1\n",
      "-0.11084534        1\n",
      "Name: Col742, Length: 232, dtype: int64\n",
      "After 2               4475\n",
      "-0.349927106    3628\n",
      "-0.447213595    2239\n",
      "-0.223606798    1748\n",
      "0               1609\n",
      "                ... \n",
      "-0.102448167       1\n",
      "0.054187098        1\n",
      "-0.565685425       1\n",
      "0.103436833        1\n",
      "-0.11084534        1\n",
      "Name: Col742, Length: 232, dtype: int64 \n",
      "\n",
      "Before 0                      12058\n",
      "2                       3219\n",
      "0                       2495\n",
      "0.447213596             1202\n",
      "0.349927106             1055\n",
      "                       ...  \n",
      "-0.2213133339999999        1\n",
      "-0.0207208789999999        1\n",
      "0.000400301                1\n",
      "0.382595064                1\n",
      "0.025276665                1\n",
      "Name: Col747, Length: 371, dtype: int64\n",
      "After 0    34667\n",
      "2     3219\n",
      "1       43\n",
      "3       27\n",
      "5        7\n",
      "Name: Col747, dtype: int64 \n",
      "\n",
      "Before 0                     11122\n",
      "0                     10767\n",
      "2                      2451\n",
      "0.0                     469\n",
      "-0.2                    223\n",
      "                      ...  \n",
      "0.255550624               1\n",
      "-0.237017268              1\n",
      "0.069985421               1\n",
      "0.1627283659999999        1\n",
      "0.188982236               1\n",
      "Name: Col754, Length: 745, dtype: int64\n",
      "After 0                     11122\n",
      "0                     10767\n",
      "2                      2451\n",
      "0.0                     469\n",
      "-0.2                    223\n",
      "                      ...  \n",
      "0.255550624               1\n",
      "-0.237017268              1\n",
      "0.069985421               1\n",
      "0.1627283659999999        1\n",
      "0.188982236               1\n",
      "Name: Col754, Length: 745, dtype: int64 \n",
      "\n",
      "Before 0               12843\n",
      "0                3691\n",
      "2                2416\n",
      "-0.349927106     1342\n",
      "-0.447213595      664\n",
      "                ...  \n",
      "0.039906528         1\n",
      "-0.296922995        1\n",
      "-0.228016875        1\n",
      "-0.094491225        1\n",
      "-0.447215888        1\n",
      "Name: Col763, Length: 590, dtype: int64\n",
      "After 0               12843\n",
      "0                3691\n",
      "2                2416\n",
      "-0.349927106     1342\n",
      "-0.447213595      664\n",
      "                ...  \n",
      "0.039906528         1\n",
      "-0.296922995        1\n",
      "-0.228016875        1\n",
      "-0.094491225        1\n",
      "-0.447215888        1\n",
      "Name: Col763, Length: 590, dtype: int64 \n",
      "\n",
      "Before 0               37055\n",
      "0                 442\n",
      "-0.020091829      165\n",
      "0.057142859       103\n",
      "0.255550626        97\n",
      "2                  71\n",
      "0.127775314        16\n",
      "0.442619578         8\n",
      "0.069985428         6\n",
      "Name: Col791, dtype: int64\n",
      "After 0    37892\n",
      "2       71\n",
      "Name: Col791, dtype: int64 \n",
      "\n",
      "Before 0    36801\n",
      "2     1162\n",
      "Name: Col813, dtype: int64\n",
      "After 0    36801\n",
      "2     1162\n",
      "Name: Col813, dtype: int64 \n",
      "\n",
      "Before 0               9030\n",
      "2               3955\n",
      "0.349927106     2586\n",
      "0.447213596     1488\n",
      "0               1295\n",
      "                ... \n",
      "0.392116029        1\n",
      "-0.328803164       1\n",
      "0.180701581        1\n",
      "-0.118367822       1\n",
      "0.26147177         1\n",
      "Name: Col822, Length: 370, dtype: int64\n",
      "After 0               9030\n",
      "2               3955\n",
      "0.349927106     2586\n",
      "0.447213596     1488\n",
      "0               1295\n",
      "                ... \n",
      "0.392116029        1\n",
      "-0.328803164       1\n",
      "0.180701581        1\n",
      "-0.118367822       1\n",
      "0.26147177         1\n",
      "Name: Col822, Length: 370, dtype: int64 \n",
      "\n",
      "Before -0.349927    5325\n",
      " 2.000000    4584\n",
      "-0.209956    2445\n",
      "-0.447214    2263\n",
      " 0.349927    1967\n",
      "             ... \n",
      "-0.134537       1\n",
      "-0.431532       1\n",
      "-0.286795       1\n",
      " 0.196173       1\n",
      "-0.102448       1\n",
      "Name: Col831, Length: 207, dtype: int64\n",
      "After -0.349927    5325\n",
      " 2.000000    4584\n",
      "-0.209956    2445\n",
      "-0.447214    2263\n",
      " 0.349927    1967\n",
      "             ... \n",
      "-0.134537       1\n",
      "-0.431532       1\n",
      "-0.286795       1\n",
      " 0.196173       1\n",
      "-0.102448       1\n",
      "Name: Col831, Length: 207, dtype: int64 \n",
      "\n",
      "Before 0                      11962\n",
      "2                       3614\n",
      "0                       2000\n",
      "0.349927106             1659\n",
      "0.447213596             1202\n",
      "                       ...  \n",
      "-0.0207208789999999        1\n",
      "0.661867961                1\n",
      "0.025276665                1\n",
      "0.225025463                1\n",
      "0.118531549                1\n",
      "Name: Col836, Length: 353, dtype: int64\n",
      "After 0    34337\n",
      "2     3614\n",
      "5       12\n",
      "Name: Col836, dtype: int64 \n",
      "\n",
      "Before 0               11060\n",
      "0               10842\n",
      "2                2405\n",
      "0.0               421\n",
      "0.349927106       272\n",
      "                ...  \n",
      "0.295937665         1\n",
      "0.447213635         1\n",
      "-0.349915278        1\n",
      "0.167354138         1\n",
      "0.265480524         1\n",
      "Name: Col843, Length: 715, dtype: int64\n",
      "After 0               11060\n",
      "0               10842\n",
      "2                2405\n",
      "0.0               421\n",
      "0.349927106       272\n",
      "                ...  \n",
      "0.295937665         1\n",
      "0.447213635         1\n",
      "-0.349915278        1\n",
      "0.167354138         1\n",
      "0.265480524         1\n",
      "Name: Col843, Length: 715, dtype: int64 \n",
      "\n",
      "Before 0               13109\n",
      "0                3551\n",
      "2                2329\n",
      "-0.349927106     1878\n",
      "-0.209956264      778\n",
      "                ...  \n",
      "-0.094705646        1\n",
      "-0.105888988        1\n",
      "-0.357770875        1\n",
      "-0.080812254        1\n",
      "0.447213596         1\n",
      "Name: Col852, Length: 489, dtype: int64\n",
      "After 0               13109\n",
      "0                3551\n",
      "2                2329\n",
      "-0.349927106     1878\n",
      "-0.209956264      778\n",
      "                ...  \n",
      "-0.094705646        1\n",
      "-0.105888988        1\n",
      "-0.357770875        1\n",
      "-0.080812254        1\n",
      "0.447213596         1\n",
      "Name: Col852, Length: 489, dtype: int64 \n",
      "\n"
     ]
    }
   ],
   "source": [
    "for col in cat_cols:\n",
    "  print('Before',X[col].value_counts())\n",
    "  X[col] = X[col].replace({0.0:0,'-':2})\n",
    "  print('After',X[col].value_counts(),'\\n')"
   ]
  },
  {
   "cell_type": "markdown",
   "metadata": {
    "colab_type": "text",
    "id": "EzOgxlfc_2fJ"
   },
   "source": [
    "#### Separating the Y variable"
   ]
  },
  {
   "cell_type": "code",
   "execution_count": 83,
   "metadata": {
    "colab": {
     "base_uri": "https://localhost:8080/",
     "height": 141
    },
    "colab_type": "code",
    "id": "tysiRJhpASVR",
    "outputId": "15c8a758-dd23-4565-942f-0d030dba7a44"
   },
   "outputs": [
    {
     "name": "stdout",
     "output_type": "stream",
     "text": [
      "       Col2\n",
      "17276     0\n",
      "11191     0\n",
      "3221      0\n",
      "4764      0\n",
      "13835     0\n"
     ]
    },
    {
     "data": {
      "text/plain": [
       "(17521, 1)"
      ]
     },
     "execution_count": 83,
     "metadata": {},
     "output_type": "execute_result"
    }
   ],
   "source": [
    "y = train_df.iloc[:,[1]]\n",
    "print( y.sample(5))\n",
    "y.shape"
   ]
  },
  {
   "cell_type": "code",
   "execution_count": 84,
   "metadata": {
    "colab": {
     "base_uri": "https://localhost:8080/",
     "height": 35
    },
    "colab_type": "code",
    "id": "ltCQpVvNHHLL",
    "outputId": "83a2acef-b103-409f-9dfc-e167006781a6"
   },
   "outputs": [
    {
     "data": {
      "text/plain": [
       "Index(['Col2'], dtype='object')"
      ]
     },
     "execution_count": 84,
     "metadata": {},
     "output_type": "execute_result"
    }
   ],
   "source": [
    "y.columns"
   ]
  },
  {
   "cell_type": "code",
   "execution_count": 85,
   "metadata": {
    "colab": {
     "base_uri": "https://localhost:8080/",
     "height": 35
    },
    "colab_type": "code",
    "id": "KJh1SX5WAmwg",
    "outputId": "8f12dfd1-33aa-4c02-9cdc-2eb8f9f3a635"
   },
   "outputs": [
    {
     "data": {
      "text/plain": [
       "[]"
      ]
     },
     "execution_count": 85,
     "metadata": {},
     "output_type": "execute_result"
    }
   ],
   "source": [
    "null_cols(y,y.columns)"
   ]
  },
  {
   "cell_type": "markdown",
   "metadata": {
    "colab_type": "text",
    "id": "XKrsPimVvguL"
   },
   "source": [
    "## Feature Selection and Dimentionality reduction"
   ]
  },
  {
   "cell_type": "markdown",
   "metadata": {
    "colab_type": "text",
    "id": "iOZ-mKI2ZoPL"
   },
   "source": [
    "### Feature selection method"
   ]
  },
  {
   "cell_type": "code",
   "execution_count": 86,
   "metadata": {
    "colab": {
     "base_uri": "https://localhost:8080/",
     "height": 35
    },
    "colab_type": "code",
    "id": "6aIf3VmOZ23m",
    "outputId": "7ac996f1-ee29-43cc-b622-8041bcc41529"
   },
   "outputs": [
    {
     "data": {
      "text/plain": [
       "(17521, 2395)"
      ]
     },
     "execution_count": 86,
     "metadata": {},
     "output_type": "execute_result"
    }
   ],
   "source": [
    "train_df.shape"
   ]
  },
  {
   "cell_type": "code",
   "execution_count": 87,
   "metadata": {},
   "outputs": [
    {
     "data": {
      "text/plain": [
       "(17521,)"
      ]
     },
     "execution_count": 87,
     "metadata": {},
     "output_type": "execute_result"
    }
   ],
   "source": [
    "y_train.shape"
   ]
  },
  {
   "cell_type": "code",
   "execution_count": 88,
   "metadata": {},
   "outputs": [
    {
     "data": {
      "text/plain": [
       "(17521, 1)"
      ]
     },
     "execution_count": 88,
     "metadata": {},
     "output_type": "execute_result"
    }
   ],
   "source": [
    "y.shape"
   ]
  },
  {
   "cell_type": "markdown",
   "metadata": {
    "colab_type": "text",
    "id": "Yvp10NM58a7q"
   },
   "source": [
    "### Dimensionality reduction using t-SNE\n"
   ]
  },
  {
   "cell_type": "markdown",
   "metadata": {
    "colab_type": "text",
    "id": "FRZBJutiTb5q"
   },
   "source": [
    " n | divergence | time\n",
    "---|---| ---\n",
    "3| 1.552975 | 50 mins "
   ]
  },
  {
   "cell_type": "code",
   "execution_count": 89,
   "metadata": {
    "colab": {
     "base_uri": "https://localhost:8080/",
     "height": 141
    },
    "colab_type": "code",
    "id": "pP0braML1oFY",
    "outputId": "9273dfdb-0b99-46aa-cb65-97856ae55f13"
   },
   "outputs": [
    {
     "data": {
      "text/plain": [
       "array([[ 12.966208  ,   7.6291747 , -10.028655  ],\n",
       "       [-14.196468  ,  21.274002  ,  -8.30545   ],\n",
       "       [-17.39448   ,  20.732141  ,  -0.725202  ],\n",
       "       ...,\n",
       "       [  5.2431226 ,  -5.682371  ,  -6.543432  ],\n",
       "       [  1.7690104 , -10.042925  ,   2.0753376 ],\n",
       "       [-17.307201  ,  20.773645  ,  -0.72306323]], dtype=float32)"
      ]
     },
     "execution_count": 89,
     "metadata": {},
     "output_type": "execute_result"
    }
   ],
   "source": [
    "tsne_data = np.load(\"tsne.npy\")\n",
    "tsne_data"
   ]
  },
  {
   "cell_type": "code",
   "execution_count": 91,
   "metadata": {
    "colab": {},
    "colab_type": "code",
    "id": "gY9P3c4aH4ih"
   },
   "outputs": [],
   "source": [
    "if tsne_data is None :\n",
    "    if X.isna().sum().sum() < 1:      \n",
    "        model = TSNE(n_components=3,random_state=0,verbose=1)\n",
    "        tsne_data = model.fit_transform(X)\n",
    "        np.save('tsne',tsne_data)\n",
    "    else:\n",
    "        print('Null vals present')"
   ]
  },
  {
   "cell_type": "code",
   "execution_count": 92,
   "metadata": {
    "colab": {
     "base_uri": "https://localhost:8080/",
     "height": 35
    },
    "colab_type": "code",
    "id": "vno7q82rggVF",
    "outputId": "d8a754f1-55f9-4235-c75a-02f824b7aaf1"
   },
   "outputs": [
    {
     "data": {
      "text/plain": [
       "(37963, 3)"
      ]
     },
     "execution_count": 92,
     "metadata": {},
     "output_type": "execute_result"
    }
   ],
   "source": [
    "tsne_data.shape"
   ]
  },
  {
   "cell_type": "code",
   "execution_count": 93,
   "metadata": {
    "colab": {
     "base_uri": "https://localhost:8080/",
     "height": 35
    },
    "colab_type": "code",
    "id": "Y-2T4MsPDhb5",
    "outputId": "4062bd08-7a2c-4b3f-f0d8-0ffafbd97b1f"
   },
   "outputs": [
    {
     "data": {
      "text/plain": [
       "numpy.ndarray"
      ]
     },
     "execution_count": 93,
     "metadata": {},
     "output_type": "execute_result"
    }
   ],
   "source": [
    "type(tsne_data)"
   ]
  },
  {
   "cell_type": "markdown",
   "metadata": {
    "colab_type": "text",
    "id": "FrlQq1eq9F_q"
   },
   "source": [
    "#### EDA with tsne data"
   ]
  },
  {
   "cell_type": "code",
   "execution_count": 94,
   "metadata": {
    "colab": {},
    "colab_type": "code",
    "id": "LMCRDx7d668A"
   },
   "outputs": [],
   "source": [
    "# X_train and X_test are both without ID column\n",
    "X_train = tsne_data[:train_last_index]\n",
    "X_test = tsne_data[train_last_index:]"
   ]
  },
  {
   "cell_type": "code",
   "execution_count": 95,
   "metadata": {
    "colab": {
     "base_uri": "https://localhost:8080/",
     "height": 195
    },
    "colab_type": "code",
    "id": "tv0fG6deDpic",
    "outputId": "e55b01a0-9666-459f-efa3-8477efd3db15"
   },
   "outputs": [
    {
     "data": {
      "text/plain": [
       "array([[ 12.966208 ,   7.6291747, -10.028655 ],\n",
       "       [-14.196468 ,  21.274002 ,  -8.30545  ],\n",
       "       [-17.39448  ,  20.732141 ,  -0.725202 ],\n",
       "       [-15.47157  ,  21.346645 ,  -1.2622602],\n",
       "       [-17.6458   ,  20.615833 ,  -0.7474113],\n",
       "       [-15.011502 ,  21.37602  ,  -1.7775688],\n",
       "       [  3.7999327,  -9.978249 ,   4.8382   ],\n",
       "       [  3.3549275,   3.6714833, -10.211234 ],\n",
       "       [  6.1283283,   1.5645589,   6.205583 ],\n",
       "       [ 12.628237 ,  10.502278 , -15.479282 ],\n",
       "       [  0.1106067, -10.575792 ,   1.2182759],\n",
       "       [-18.000906 ,   6.8030334,  -6.633424 ],\n",
       "       [ 13.115993 , -11.816519 , -14.662633 ],\n",
       "       [-12.717318 ,  18.58738  , -10.004136 ],\n",
       "       [  6.9227633,  -5.1464787,   4.9544973]], dtype=float32)"
      ]
     },
     "execution_count": 95,
     "metadata": {},
     "output_type": "execute_result"
    }
   ],
   "source": [
    "X_train[:15]"
   ]
  },
  {
   "cell_type": "code",
   "execution_count": 96,
   "metadata": {
    "colab": {
     "base_uri": "https://localhost:8080/",
     "height": 35
    },
    "colab_type": "code",
    "id": "osRCo898D06f",
    "outputId": "58e79aed-14d2-406f-fde3-bc67bf93d57d"
   },
   "outputs": [
    {
     "data": {
      "text/plain": [
       "(17521, 3)"
      ]
     },
     "execution_count": 96,
     "metadata": {},
     "output_type": "execute_result"
    }
   ],
   "source": [
    "X_train.shape"
   ]
  },
  {
   "cell_type": "code",
   "execution_count": 97,
   "metadata": {
    "colab": {
     "base_uri": "https://localhost:8080/",
     "height": 218
    },
    "colab_type": "code",
    "id": "nFtMgVEbh2Xe",
    "outputId": "affc853e-5093-4b80-8f1e-1ae39d924d7f"
   },
   "outputs": [
    {
     "name": "stdout",
     "output_type": "stream",
     "text": [
      "(17521, 4)\n"
     ]
    },
    {
     "data": {
      "text/html": [
       "<div>\n",
       "<style scoped>\n",
       "    .dataframe tbody tr th:only-of-type {\n",
       "        vertical-align: middle;\n",
       "    }\n",
       "\n",
       "    .dataframe tbody tr th {\n",
       "        vertical-align: top;\n",
       "    }\n",
       "\n",
       "    .dataframe thead th {\n",
       "        text-align: right;\n",
       "    }\n",
       "</style>\n",
       "<table border=\"1\" class=\"dataframe\">\n",
       "  <thead>\n",
       "    <tr style=\"text-align: right;\">\n",
       "      <th></th>\n",
       "      <th>dim1</th>\n",
       "      <th>dim2</th>\n",
       "      <th>dim3</th>\n",
       "      <th>label</th>\n",
       "    </tr>\n",
       "  </thead>\n",
       "  <tbody>\n",
       "    <tr>\n",
       "      <th>0</th>\n",
       "      <td>12.966208</td>\n",
       "      <td>7.629175</td>\n",
       "      <td>-10.028655</td>\n",
       "      <td>1.0</td>\n",
       "    </tr>\n",
       "    <tr>\n",
       "      <th>1</th>\n",
       "      <td>-14.196468</td>\n",
       "      <td>21.274002</td>\n",
       "      <td>-8.305450</td>\n",
       "      <td>0.0</td>\n",
       "    </tr>\n",
       "    <tr>\n",
       "      <th>2</th>\n",
       "      <td>-17.394480</td>\n",
       "      <td>20.732141</td>\n",
       "      <td>-0.725202</td>\n",
       "      <td>0.0</td>\n",
       "    </tr>\n",
       "    <tr>\n",
       "      <th>3</th>\n",
       "      <td>-15.471570</td>\n",
       "      <td>21.346645</td>\n",
       "      <td>-1.262260</td>\n",
       "      <td>0.0</td>\n",
       "    </tr>\n",
       "    <tr>\n",
       "      <th>4</th>\n",
       "      <td>-17.645800</td>\n",
       "      <td>20.615833</td>\n",
       "      <td>-0.747411</td>\n",
       "      <td>0.0</td>\n",
       "    </tr>\n",
       "  </tbody>\n",
       "</table>\n",
       "</div>"
      ],
      "text/plain": [
       "        dim1       dim2       dim3  label\n",
       "0  12.966208   7.629175 -10.028655    1.0\n",
       "1 -14.196468  21.274002  -8.305450    0.0\n",
       "2 -17.394480  20.732141  -0.725202    0.0\n",
       "3 -15.471570  21.346645  -1.262260    0.0\n",
       "4 -17.645800  20.615833  -0.747411    0.0"
      ]
     },
     "execution_count": 97,
     "metadata": {},
     "output_type": "execute_result"
    }
   ],
   "source": [
    "join_data = np.hstack((X_train,y))\n",
    "print(join_data.shape)\n",
    "dfa = pd.DataFrame(join_data,columns=(\"dim1\",'dim2','dim3','label'))\n",
    "dfa.head()"
   ]
  },
  {
   "cell_type": "code",
   "execution_count": 98,
   "metadata": {
    "colab": {
     "base_uri": "https://localhost:8080/",
     "height": 291
    },
    "colab_type": "code",
    "id": "YXMm0hY0jFPJ",
    "outputId": "6d716581-74bc-4bdf-9399-133860c6641f"
   },
   "outputs": [
    {
     "data": {
      "text/html": [
       "<div>\n",
       "<style scoped>\n",
       "    .dataframe tbody tr th:only-of-type {\n",
       "        vertical-align: middle;\n",
       "    }\n",
       "\n",
       "    .dataframe tbody tr th {\n",
       "        vertical-align: top;\n",
       "    }\n",
       "\n",
       "    .dataframe thead th {\n",
       "        text-align: right;\n",
       "    }\n",
       "</style>\n",
       "<table border=\"1\" class=\"dataframe\">\n",
       "  <thead>\n",
       "    <tr style=\"text-align: right;\">\n",
       "      <th></th>\n",
       "      <th>dim1</th>\n",
       "      <th>dim2</th>\n",
       "      <th>dim3</th>\n",
       "      <th>label</th>\n",
       "    </tr>\n",
       "  </thead>\n",
       "  <tbody>\n",
       "    <tr>\n",
       "      <th>count</th>\n",
       "      <td>17521.000000</td>\n",
       "      <td>17521.000000</td>\n",
       "      <td>17521.000000</td>\n",
       "      <td>17521.000000</td>\n",
       "    </tr>\n",
       "    <tr>\n",
       "      <th>mean</th>\n",
       "      <td>-0.304923</td>\n",
       "      <td>-0.110430</td>\n",
       "      <td>-0.087895</td>\n",
       "      <td>0.100508</td>\n",
       "    </tr>\n",
       "    <tr>\n",
       "      <th>std</th>\n",
       "      <td>10.946952</td>\n",
       "      <td>11.210497</td>\n",
       "      <td>10.088150</td>\n",
       "      <td>0.300685</td>\n",
       "    </tr>\n",
       "    <tr>\n",
       "      <th>min</th>\n",
       "      <td>-23.939781</td>\n",
       "      <td>-24.082001</td>\n",
       "      <td>-21.857027</td>\n",
       "      <td>0.000000</td>\n",
       "    </tr>\n",
       "    <tr>\n",
       "      <th>25%</th>\n",
       "      <td>-9.103204</td>\n",
       "      <td>-9.647172</td>\n",
       "      <td>-8.245725</td>\n",
       "      <td>0.000000</td>\n",
       "    </tr>\n",
       "    <tr>\n",
       "      <th>50%</th>\n",
       "      <td>-0.146481</td>\n",
       "      <td>0.380391</td>\n",
       "      <td>-0.070401</td>\n",
       "      <td>0.000000</td>\n",
       "    </tr>\n",
       "    <tr>\n",
       "      <th>75%</th>\n",
       "      <td>8.429140</td>\n",
       "      <td>8.930604</td>\n",
       "      <td>8.053248</td>\n",
       "      <td>0.000000</td>\n",
       "    </tr>\n",
       "    <tr>\n",
       "      <th>max</th>\n",
       "      <td>25.324026</td>\n",
       "      <td>26.590508</td>\n",
       "      <td>23.967939</td>\n",
       "      <td>1.000000</td>\n",
       "    </tr>\n",
       "  </tbody>\n",
       "</table>\n",
       "</div>"
      ],
      "text/plain": [
       "               dim1          dim2          dim3         label\n",
       "count  17521.000000  17521.000000  17521.000000  17521.000000\n",
       "mean      -0.304923     -0.110430     -0.087895      0.100508\n",
       "std       10.946952     11.210497     10.088150      0.300685\n",
       "min      -23.939781    -24.082001    -21.857027      0.000000\n",
       "25%       -9.103204     -9.647172     -8.245725      0.000000\n",
       "50%       -0.146481      0.380391     -0.070401      0.000000\n",
       "75%        8.429140      8.930604      8.053248      0.000000\n",
       "max       25.324026     26.590508     23.967939      1.000000"
      ]
     },
     "execution_count": 98,
     "metadata": {},
     "output_type": "execute_result"
    }
   ],
   "source": [
    "dfa.describe()"
   ]
  },
  {
   "cell_type": "code",
   "execution_count": 99,
   "metadata": {
    "colab": {
     "base_uri": "https://localhost:8080/",
     "height": 70
    },
    "colab_type": "code",
    "id": "N1jKSQ1mIhsr",
    "outputId": "290f21dd-c751-4e08-f3be-de1a26883b2e"
   },
   "outputs": [
    {
     "data": {
      "text/plain": [
       "0.0    15760\n",
       "1.0     1761\n",
       "Name: label, dtype: int64"
      ]
     },
     "execution_count": 99,
     "metadata": {},
     "output_type": "execute_result"
    }
   ],
   "source": [
    "# checking the distribution per labels\n",
    "dfa['label'].value_counts()"
   ]
  },
  {
   "cell_type": "code",
   "execution_count": 100,
   "metadata": {
    "colab": {
     "base_uri": "https://localhost:8080/",
     "height": 301
    },
    "colab_type": "code",
    "id": "lQM0q0xLHPfI",
    "outputId": "e2b20386-cc1c-40ba-9ed9-4f74964ea11e"
   },
   "outputs": [
    {
     "data": {
      "image/png": "[encoded data removed]",
      "text/plain": [
       "<Figure size 432x288 with 1 Axes>"
      ]
     },
     "metadata": {
      "needs_background": "light"
     },
     "output_type": "display_data"
    }
   ],
   "source": [
    "ax = sns.scatterplot(data=dfa,x='dim1',y='dim2',hue='label')"
   ]
  },
  {
   "cell_type": "markdown",
   "metadata": {
    "colab_type": "text",
    "id": "3xmMmxL1iUVc"
   },
   "source": [
    "### dim1 v/s dim2 v/s dim3"
   ]
  },
  {
   "cell_type": "code",
   "execution_count": 101,
   "metadata": {
    "colab": {},
    "colab_type": "code",
    "id": "II9N52TAi-vh"
   },
   "outputs": [
    {
     "name": "stderr",
     "output_type": "stream",
     "text": [
      "C:\\Users\\vrush\\anaconda3\\lib\\site-packages\\seaborn\\distributions.py:2557: FutureWarning: `distplot` is a deprecated function and will be removed in a future version. Please adapt your code to use either `displot` (a figure-level function with similar flexibility) or `histplot` (an axes-level function for histograms).\n",
      "  warnings.warn(msg, FutureWarning)\n",
      "C:\\Users\\vrush\\anaconda3\\lib\\site-packages\\seaborn\\distributions.py:2557: FutureWarning: `distplot` is a deprecated function and will be removed in a future version. Please adapt your code to use either `displot` (a figure-level function with similar flexibility) or `histplot` (an axes-level function for histograms).\n",
      "  warnings.warn(msg, FutureWarning)\n",
      "C:\\Users\\vrush\\anaconda3\\lib\\site-packages\\seaborn\\distributions.py:2557: FutureWarning: `distplot` is a deprecated function and will be removed in a future version. Please adapt your code to use either `displot` (a figure-level function with similar flexibility) or `histplot` (an axes-level function for histograms).\n",
      "  warnings.warn(msg, FutureWarning)\n",
      "C:\\Users\\vrush\\anaconda3\\lib\\site-packages\\seaborn\\distributions.py:2557: FutureWarning: `distplot` is a deprecated function and will be removed in a future version. Please adapt your code to use either `displot` (a figure-level function with similar flexibility) or `histplot` (an axes-level function for histograms).\n",
      "  warnings.warn(msg, FutureWarning)\n",
      "C:\\Users\\vrush\\anaconda3\\lib\\site-packages\\seaborn\\distributions.py:2557: FutureWarning: `distplot` is a deprecated function and will be removed in a future version. Please adapt your code to use either `displot` (a figure-level function with similar flexibility) or `histplot` (an axes-level function for histograms).\n",
      "  warnings.warn(msg, FutureWarning)\n",
      "C:\\Users\\vrush\\anaconda3\\lib\\site-packages\\seaborn\\distributions.py:2557: FutureWarning: `distplot` is a deprecated function and will be removed in a future version. Please adapt your code to use either `displot` (a figure-level function with similar flexibility) or `histplot` (an axes-level function for histograms).\n",
      "  warnings.warn(msg, FutureWarning)\n"
     ]
    },
    {
     "data": {
      "image/png": "[encoded data removed]",
      "text/plain": [
       "<Figure size 484x432 with 1 Axes>"
      ]
     },
     "metadata": {
      "needs_background": "light"
     },
     "output_type": "display_data"
    },
    {
     "data": {
      "image/png": "[encoded data removed]",
      "text/plain": [
       "<Figure size 484x432 with 1 Axes>"
      ]
     },
     "metadata": {
      "needs_background": "light"
     },
     "output_type": "display_data"
    },
    {
     "data": {
      "image/png": "[encoded data removed]",
      "text/plain": [
       "<Figure size 484x432 with 1 Axes>"
      ]
     },
     "metadata": {
      "needs_background": "light"
     },
     "output_type": "display_data"
    }
   ],
   "source": [
    "ax = sns.FacetGrid(dfa,hue=\"label\",height=6).map(sns.distplot,'dim1').add_legend()\n",
    "ax1 = sns.FacetGrid(dfa,hue=\"label\",height=6).map(sns.distplot,'dim2').add_legend()\n",
    "ax3 = sns.FacetGrid(dfa,hue=\"label\",height=6).map(sns.distplot,'dim3').add_legend()"
   ]
  },
  {
   "cell_type": "markdown",
   "metadata": {
    "colab_type": "text",
    "id": "HIk_Z95Os5MY"
   },
   "source": [
    "### Test data prep"
   ]
  },
  {
   "cell_type": "code",
   "execution_count": 102,
   "metadata": {
    "colab": {
     "base_uri": "https://localhost:8080/",
     "height": 35
    },
    "colab_type": "code",
    "id": "5NlgQ5UNq-Dw",
    "outputId": "c373a033-6bec-4bc9-b51e-a345f3dd1714"
   },
   "outputs": [
    {
     "data": {
      "text/plain": [
       "(20442,)"
      ]
     },
     "execution_count": 102,
     "metadata": {},
     "output_type": "execute_result"
    }
   ],
   "source": [
    "test_id = test_df.iloc[:,0]\n",
    "test_id.shape"
   ]
  },
  {
   "cell_type": "code",
   "execution_count": 103,
   "metadata": {
    "colab": {
     "base_uri": "https://localhost:8080/",
     "height": 291
    },
    "colab_type": "code",
    "id": "U6nNHwUAtTP7",
    "outputId": "1a5ae7c9-a41a-4738-a0b6-2518a86cc29e"
   },
   "outputs": [
    {
     "data": {
      "text/html": [
       "<div>\n",
       "<style scoped>\n",
       "    .dataframe tbody tr th:only-of-type {\n",
       "        vertical-align: middle;\n",
       "    }\n",
       "\n",
       "    .dataframe tbody tr th {\n",
       "        vertical-align: top;\n",
       "    }\n",
       "\n",
       "    .dataframe thead th {\n",
       "        text-align: right;\n",
       "    }\n",
       "</style>\n",
       "<table border=\"1\" class=\"dataframe\">\n",
       "  <thead>\n",
       "    <tr style=\"text-align: right;\">\n",
       "      <th></th>\n",
       "      <th>dim1</th>\n",
       "      <th>dim2</th>\n",
       "      <th>dim3</th>\n",
       "    </tr>\n",
       "  </thead>\n",
       "  <tbody>\n",
       "    <tr>\n",
       "      <th>count</th>\n",
       "      <td>20442.000000</td>\n",
       "      <td>20442.000000</td>\n",
       "      <td>20442.000000</td>\n",
       "    </tr>\n",
       "    <tr>\n",
       "      <th>mean</th>\n",
       "      <td>0.344181</td>\n",
       "      <td>-0.077773</td>\n",
       "      <td>0.218283</td>\n",
       "    </tr>\n",
       "    <tr>\n",
       "      <th>std</th>\n",
       "      <td>10.500479</td>\n",
       "      <td>10.951061</td>\n",
       "      <td>10.244196</td>\n",
       "    </tr>\n",
       "    <tr>\n",
       "      <th>min</th>\n",
       "      <td>-24.032606</td>\n",
       "      <td>-24.129465</td>\n",
       "      <td>-21.797735</td>\n",
       "    </tr>\n",
       "    <tr>\n",
       "      <th>25%</th>\n",
       "      <td>-7.882465</td>\n",
       "      <td>-9.187041</td>\n",
       "      <td>-7.969855</td>\n",
       "    </tr>\n",
       "    <tr>\n",
       "      <th>50%</th>\n",
       "      <td>0.811122</td>\n",
       "      <td>0.172071</td>\n",
       "      <td>-0.026267</td>\n",
       "    </tr>\n",
       "    <tr>\n",
       "      <th>75%</th>\n",
       "      <td>8.608865</td>\n",
       "      <td>8.602738</td>\n",
       "      <td>8.531698</td>\n",
       "    </tr>\n",
       "    <tr>\n",
       "      <th>max</th>\n",
       "      <td>25.332592</td>\n",
       "      <td>26.505873</td>\n",
       "      <td>23.942247</td>\n",
       "    </tr>\n",
       "  </tbody>\n",
       "</table>\n",
       "</div>"
      ],
      "text/plain": [
       "               dim1          dim2          dim3\n",
       "count  20442.000000  20442.000000  20442.000000\n",
       "mean       0.344181     -0.077773      0.218283\n",
       "std       10.500479     10.951061     10.244196\n",
       "min      -24.032606    -24.129465    -21.797735\n",
       "25%       -7.882465     -9.187041     -7.969855\n",
       "50%        0.811122      0.172071     -0.026267\n",
       "75%        8.608865      8.602738      8.531698\n",
       "max       25.332592     26.505873     23.942247"
      ]
     },
     "execution_count": 103,
     "metadata": {},
     "output_type": "execute_result"
    }
   ],
   "source": [
    "test = pd.DataFrame(X_test,columns=[\"dim1\",'dim2','dim3'])\n",
    "test.describe()"
   ]
  },
  {
   "cell_type": "markdown",
   "metadata": {
    "colab_type": "text",
    "id": "_PKUmTLg9KAx"
   },
   "source": [
    "## Modelling"
   ]
  },
  {
   "cell_type": "code",
   "execution_count": 104,
   "metadata": {
    "colab": {
     "base_uri": "https://localhost:8080/",
     "height": 35
    },
    "colab_type": "code",
    "id": "FCVJr0fm7Xkg",
    "outputId": "1beb6251-6df7-4501-9df9-eae02a3511b3"
   },
   "outputs": [
    {
     "data": {
      "text/plain": [
       "((17521, 3), (17521, 1), (20442, 3))"
      ]
     },
     "execution_count": 104,
     "metadata": {},
     "output_type": "execute_result"
    }
   ],
   "source": [
    "X_train.shape, y.shape, X_test.shape"
   ]
  },
  {
   "cell_type": "markdown",
   "metadata": {
    "colab_type": "text",
    "id": "xOV8KlEuWk5p"
   },
   "source": [
    "### Choosing random models"
   ]
  },
  {
   "cell_type": "markdown",
   "metadata": {
    "colab_type": "text",
    "id": "mw90AOFnqqE1"
   },
   "source": [
    "## Hyperparameter tuning"
   ]
  },
  {
   "cell_type": "code",
   "execution_count": 108,
   "metadata": {
    "colab": {},
    "colab_type": "code",
    "id": "6sZcarPVq-PS"
   },
   "outputs": [],
   "source": [
    "from sklearn.model_selection import GridSearchCV"
   ]
  },
  {
   "cell_type": "code",
   "execution_count": 109,
   "metadata": {
    "colab": {
     "base_uri": "https://localhost:8080/",
     "height": 35
    },
    "colab_type": "code",
    "id": "BqdlRFSFqxdk",
    "outputId": "88231b72-51a2-40e7-b59b-608d9448fb1d"
   },
   "outputs": [
    {
     "name": "stdout",
     "output_type": "stream",
     "text": [
      "Best parameters : {'class_weight': {0: 0.6657894736842105, 1: 0.3342105263157895}}\n"
     ]
    }
   ],
   "source": [
    "weights = np.linspace(0.05, 0.95, 20)\n",
    "gsc = GridSearchCV(\n",
    "    estimator=DecisionTreeClassifier(),\n",
    "    param_grid={\n",
    "        'class_weight': [{0: x, 1: 1.0-x} for x in weights]\n",
    "    },\n",
    "    scoring='f1',\n",
    "    cv=5\n",
    ")\n",
    "\n",
    "grid_result = gsc.fit(X_train, y_train)\n",
    "print(\"Best parameters : %s\" % grid_result.best_params_)"
   ]
  },
  {
   "cell_type": "code",
   "execution_count": 110,
   "metadata": {
    "colab": {
     "base_uri": "https://localhost:8080/",
     "height": 301
    },
    "colab_type": "code",
    "id": "F5oi68cCrfrC",
    "outputId": "5dda44bd-6fbd-4b65-c989-48c7ebc0bf88"
   },
   "outputs": [
    {
     "data": {
      "text/plain": [
       "<AxesSubplot:xlabel='weight'>"
      ]
     },
     "execution_count": 110,
     "metadata": {},
     "output_type": "execute_result"
    },
    {
     "data": {
      "image/png": "[encoded data removed]",
      "text/plain": [
       "<Figure size 432x288 with 1 Axes>"
      ]
     },
     "metadata": {
      "needs_background": "light"
     },
     "output_type": "display_data"
    }
   ],
   "source": [
    "data_out = pd.DataFrame({'score': grid_result.cv_results_['mean_test_score'],\n",
    "                       'weight': weights })\n",
    "data_out.plot(x='weight')"
   ]
  },
  {
   "cell_type": "code",
   "execution_count": 111,
   "metadata": {
    "colab": {
     "base_uri": "https://localhost:8080/",
     "height": 655
    },
    "colab_type": "code",
    "id": "qPkIfsekrt8w",
    "outputId": "b295f960-8d4f-422a-fa4c-ec954f447f39"
   },
   "outputs": [
    {
     "data": {
      "text/html": [
       "<div>\n",
       "<style scoped>\n",
       "    .dataframe tbody tr th:only-of-type {\n",
       "        vertical-align: middle;\n",
       "    }\n",
       "\n",
       "    .dataframe tbody tr th {\n",
       "        vertical-align: top;\n",
       "    }\n",
       "\n",
       "    .dataframe thead th {\n",
       "        text-align: right;\n",
       "    }\n",
       "</style>\n",
       "<table border=\"1\" class=\"dataframe\">\n",
       "  <thead>\n",
       "    <tr style=\"text-align: right;\">\n",
       "      <th></th>\n",
       "      <th>score</th>\n",
       "      <th>weight</th>\n",
       "    </tr>\n",
       "  </thead>\n",
       "  <tbody>\n",
       "    <tr>\n",
       "      <th>13</th>\n",
       "      <td>0.134107</td>\n",
       "      <td>0.665789</td>\n",
       "    </tr>\n",
       "    <tr>\n",
       "      <th>2</th>\n",
       "      <td>0.131145</td>\n",
       "      <td>0.144737</td>\n",
       "    </tr>\n",
       "    <tr>\n",
       "      <th>6</th>\n",
       "      <td>0.131116</td>\n",
       "      <td>0.334211</td>\n",
       "    </tr>\n",
       "    <tr>\n",
       "      <th>10</th>\n",
       "      <td>0.129752</td>\n",
       "      <td>0.523684</td>\n",
       "    </tr>\n",
       "    <tr>\n",
       "      <th>9</th>\n",
       "      <td>0.128560</td>\n",
       "      <td>0.476316</td>\n",
       "    </tr>\n",
       "    <tr>\n",
       "      <th>3</th>\n",
       "      <td>0.128072</td>\n",
       "      <td>0.192105</td>\n",
       "    </tr>\n",
       "    <tr>\n",
       "      <th>17</th>\n",
       "      <td>0.127575</td>\n",
       "      <td>0.855263</td>\n",
       "    </tr>\n",
       "    <tr>\n",
       "      <th>11</th>\n",
       "      <td>0.126869</td>\n",
       "      <td>0.571053</td>\n",
       "    </tr>\n",
       "    <tr>\n",
       "      <th>8</th>\n",
       "      <td>0.126663</td>\n",
       "      <td>0.428947</td>\n",
       "    </tr>\n",
       "    <tr>\n",
       "      <th>0</th>\n",
       "      <td>0.126528</td>\n",
       "      <td>0.050000</td>\n",
       "    </tr>\n",
       "    <tr>\n",
       "      <th>18</th>\n",
       "      <td>0.125358</td>\n",
       "      <td>0.902632</td>\n",
       "    </tr>\n",
       "    <tr>\n",
       "      <th>5</th>\n",
       "      <td>0.124574</td>\n",
       "      <td>0.286842</td>\n",
       "    </tr>\n",
       "    <tr>\n",
       "      <th>12</th>\n",
       "      <td>0.123488</td>\n",
       "      <td>0.618421</td>\n",
       "    </tr>\n",
       "    <tr>\n",
       "      <th>1</th>\n",
       "      <td>0.123373</td>\n",
       "      <td>0.097368</td>\n",
       "    </tr>\n",
       "    <tr>\n",
       "      <th>4</th>\n",
       "      <td>0.122490</td>\n",
       "      <td>0.239474</td>\n",
       "    </tr>\n",
       "    <tr>\n",
       "      <th>16</th>\n",
       "      <td>0.122048</td>\n",
       "      <td>0.807895</td>\n",
       "    </tr>\n",
       "    <tr>\n",
       "      <th>14</th>\n",
       "      <td>0.120445</td>\n",
       "      <td>0.713158</td>\n",
       "    </tr>\n",
       "    <tr>\n",
       "      <th>7</th>\n",
       "      <td>0.120002</td>\n",
       "      <td>0.381579</td>\n",
       "    </tr>\n",
       "    <tr>\n",
       "      <th>19</th>\n",
       "      <td>0.119899</td>\n",
       "      <td>0.950000</td>\n",
       "    </tr>\n",
       "    <tr>\n",
       "      <th>15</th>\n",
       "      <td>0.118487</td>\n",
       "      <td>0.760526</td>\n",
       "    </tr>\n",
       "  </tbody>\n",
       "</table>\n",
       "</div>"
      ],
      "text/plain": [
       "       score    weight\n",
       "13  0.134107  0.665789\n",
       "2   0.131145  0.144737\n",
       "6   0.131116  0.334211\n",
       "10  0.129752  0.523684\n",
       "9   0.128560  0.476316\n",
       "3   0.128072  0.192105\n",
       "17  0.127575  0.855263\n",
       "11  0.126869  0.571053\n",
       "8   0.126663  0.428947\n",
       "0   0.126528  0.050000\n",
       "18  0.125358  0.902632\n",
       "5   0.124574  0.286842\n",
       "12  0.123488  0.618421\n",
       "1   0.123373  0.097368\n",
       "4   0.122490  0.239474\n",
       "16  0.122048  0.807895\n",
       "14  0.120445  0.713158\n",
       "7   0.120002  0.381579\n",
       "19  0.119899  0.950000\n",
       "15  0.118487  0.760526"
      ]
     },
     "execution_count": 111,
     "metadata": {},
     "output_type": "execute_result"
    }
   ],
   "source": [
    "data_out.sort_values(by=\"score\",ascending=False)"
   ]
  },
  {
   "cell_type": "code",
   "execution_count": 112,
   "metadata": {
    "colab": {
     "base_uri": "https://localhost:8080/",
     "height": 335
    },
    "colab_type": "code",
    "id": "vQME4rIutu4n",
    "outputId": "31639eea-9f1b-4c06-88c5-1430a6786161"
   },
   "outputs": [
    {
     "name": "stdout",
     "output_type": "stream",
     "text": [
      "DecisionTreeClassifier(class_weight={0: 0.6657894736842105,\n",
      "                                     1: 0.3342105263157895})\n",
      "Accuracy =  0.9971462816049312\n",
      "Precision =  0.9988338192419826\n",
      "Recall =  0.9727427597955707\n",
      "F1 Score =  0.9856156501726122\n"
     ]
    },
    {
     "data": {
      "text/html": [
       "<div>\n",
       "<style scoped>\n",
       "    .dataframe tbody tr th:only-of-type {\n",
       "        vertical-align: middle;\n",
       "    }\n",
       "\n",
       "    .dataframe tbody tr th {\n",
       "        vertical-align: top;\n",
       "    }\n",
       "\n",
       "    .dataframe thead th {\n",
       "        text-align: right;\n",
       "    }\n",
       "</style>\n",
       "<table border=\"1\" class=\"dataframe\">\n",
       "  <thead>\n",
       "    <tr style=\"text-align: right;\">\n",
       "      <th>Actual</th>\n",
       "      <th>0</th>\n",
       "      <th>1</th>\n",
       "    </tr>\n",
       "    <tr>\n",
       "      <th>Predicted</th>\n",
       "      <th></th>\n",
       "      <th></th>\n",
       "    </tr>\n",
       "  </thead>\n",
       "  <tbody>\n",
       "    <tr>\n",
       "      <th>0</th>\n",
       "      <td>15758</td>\n",
       "      <td>48</td>\n",
       "    </tr>\n",
       "    <tr>\n",
       "      <th>1</th>\n",
       "      <td>2</td>\n",
       "      <td>1713</td>\n",
       "    </tr>\n",
       "  </tbody>\n",
       "</table>\n",
       "</div>"
      ],
      "text/plain": [
       "Actual         0     1\n",
       "Predicted             \n",
       "0          15758    48\n",
       "1              2  1713"
      ]
     },
     "execution_count": 112,
     "metadata": {},
     "output_type": "execute_result"
    }
   ],
   "source": [
    "clf = DecisionTreeClassifier(**grid_result.best_params_).fit(X_train, y_train)\n",
    "print(clf)\n",
    "y1 = clf.predict(X_train)\n",
    "\n",
    "generate_model_report(y['Col2'],y1)\n",
    "\n",
    "# Confusion matrix\n",
    "pd.crosstab(y1,y['Col2'],rownames=['Predicted'], colnames=['Actual'])\n"
   ]
  },
  {
   "cell_type": "code",
   "execution_count": 115,
   "metadata": {},
   "outputs": [],
   "source": [
    "import pickle\n",
    "filename = 'bank_model.sav'\n",
    "pickle.dump(grid_result, open(filename, 'wb'))"
   ]
  },
  {
   "cell_type": "code",
   "execution_count": 124,
   "metadata": {},
   "outputs": [],
   "source": [
    "import pickle\n",
    "filename = 'bank_model1.sav'\n",
    "pickle.dump(clf, open(filename, 'wb'))"
   ]
  },
  {
   "cell_type": "code",
   "execution_count": 125,
   "metadata": {},
   "outputs": [
    {
     "data": {
      "text/plain": [
       "DecisionTreeClassifier(class_weight={0: 0.6657894736842105,\n",
       "                                     1: 0.3342105263157895})"
      ]
     },
     "execution_count": 125,
     "metadata": {},
     "output_type": "execute_result"
    }
   ],
   "source": [
    "clf"
   ]
  },
  {
   "cell_type": "code",
   "execution_count": 127,
   "metadata": {},
   "outputs": [
    {
     "name": "stdout",
     "output_type": "stream",
     "text": [
      "[1 0 0 ... 0 0 0]\n"
     ]
    }
   ],
   "source": [
    "loaded_model = pickle.load(open(filename, 'rb'))\n",
    "result = loaded_model.predict(X_train)\n",
    "print(result)"
   ]
  },
  {
   "cell_type": "code",
   "execution_count": 0,
   "metadata": {
    "colab": {},
    "colab_type": "code",
    "id": "KRUly1B38a7-"
   },
   "outputs": [],
   "source": []
  }
 ],
 "metadata": {
  "accelerator": "GPU",
  "colab": {
   "name": "kernel.ipynb",
   "provenance": []
  },
  "kernelspec": {
   "display_name": "Python 3",
   "language": "python",
   "name": "python3"
  },
  "language_info": {
   "codemirror_mode": {
    "name": "ipython",
    "version": 3
   },
   "file_extension": ".py",
   "mimetype": "text/x-python",
   "name": "python",
   "nbconvert_exporter": "python",
   "pygments_lexer": "ipython3",
   "version": "3.8.8"
  }
 },
 "nbformat": 4,
 "nbformat_minor": 1
}
